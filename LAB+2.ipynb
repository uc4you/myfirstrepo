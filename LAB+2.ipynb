{
 "cells": [
  {
   "cell_type": "code",
   "execution_count": 16,
   "metadata": {
    "collapsed": false,
    "scrolled": true
   },
   "outputs": [
    {
     "name": "stdout",
     "output_type": "stream",
     "text": [
      "Choices:\n",
      "1 = Count words\n",
      "2 = Count provided word\n",
      "3 = Insert string\n",
      "4 = Print string reversed\n",
      "5 = Print every nTH word\n",
      "6 = Ceaser shift\n",
      "Please choice a option: 6\n",
      "Please type the shift number: 6\n",
      "  D B O   \n",
      " \n",
      " \n",
      " H u u q   U t k :   1 8 0 5   \n",
      " \n",
      " \n",
      " \n",
      " I N G V Z K X   O   \n",
      " \n",
      " C K R R ,   V X O T I K ,   y u   M k t u g   g t j   R a i i g   g x k   t u c   \n",
      " p a y z   l g s o r e   k y z g z k y   u l   z n k   H a u t g v g x z k y .   H a z   O   \n",
      " c g x t   e u a ,   o l   e u a   j u t ' z   z k r r   s k   z n g z   z n o y   s k g t y   \n",
      " c g x ,   o l   e u a   y z o r r   z x e   z u   j k l k t j   z n k   o t l g s o k y   g t j   \n",
      " n u x x u x y   v k x v k z x g z k j   h e   z n g z   G t z o i n x o y z   O   x k g r -   \n",
      " r e   h k r o k b k   n k   o y   G t z o i n x o y z   O   c o r r   n g b k   t u z n o t m   \n",
      " s u x k   z u   j u   c o z n   e u a   g t j   e u a   g x k   t u   r u t m k x   s e   \n",
      " l x o k t j ,   t u   r u t m k x   s e   ' l g o z n l a r   y r g b k , '   g y   e u a   \n",
      " i g r r   e u a x y k r l !   H a z   n u c   j u   e u a   j u ?   O   y k k   O   n g b k   \n",
      " l x o m n z k t k j   e u a   y o z   j u c t   g t j   z k r r   s k   g r r   z n k   \n",
      " t k c y . \"   \n",
      " \n",
      " O z   c g y   o t   P a r e ,   1 8 0 5 ,   g t j   z n k   y v k g q k x   c g y   z n k   \n",
      " c k r r - q t u c t   G t t g   V j b r u b t g   Y i n ^ x k x ,   s g o j   u l   \n",
      " n u t u x   g t j   l g b u x o z k   u l   z n k   K s v x k y y   S g x e g   L k -   \n",
      " j u x u b t g .   C o z n   z n k y k   c u x j y   y n k   m x k k z k j   V x o t i k   \n",
      " B g y o r o   Q a x j m o t ,   g   s g t   u l   n o m n   x g t q   g t j   o s v u x -   \n",
      " z g t i k ,   c n u   c g y   z n k   l o x y z   z u   g x x o b k   g z   n k x   x k i k v -   \n",
      " z o u t .   G t t g   V j b r u b t g   n g j   n g j   g   i u a m n   l u x   y u s k   \n",
      " j g e y .   Y n k   c g y ,   g y   y n k   y g o j ,   y a l l k x o t m   l x u s   r g   \n",
      " m x o v v k ;   m x o v v k   h k o t m   z n k t   g   t k c   c u x j   o t   Y z .   \n",
      " V k z k x y h a x m ,   a y k j   u t r e   h e   z n k   k r o z k .   \n",
      " \n",
      " G r r   n k x   o t b o z g z o u t y   c o z n u a z   k d i k v z o u t ,   c x o z -   \n",
      " z k t   o t   L x k t i n ,   g t j   j k r o b k x k j   h e   g   y i g x r k z - r o b k x -   \n",
      " o k j   l u u z s g t   z n g z   s u x t o t m ,   x g t   g y   l u r r u c y :   \n",
      " \n",
      "         \" O l   e u a   n g b k   t u z n o t m   h k z z k x   z u   j u ,   I u a t z   [ u x   \n",
      "                         V x o t i k ] ,   g t j   o l   z n k   v x u y v k i z   u l   y v k t j o t m   g t   \n",
      "         k b k t o t m   c o z n   g   v u u x   o t b g r o j   o y   t u z   z u u   z k x x o h r k ,   \n",
      "         O   y n g r r   h k   b k x e   i n g x s k j   z u   y k k   e u a   z u t o m n z   h k -   \n",
      "         z c k k t   7   g t j   1 0   G t t k z z k   Y i n ^ x k x . \"   \n",
      " \n",
      "\n"
     ]
    }
   ],
   "source": [
    " import re\n",
    "\n",
    "Sentence = ''' XVI \n",
    "\n",
    "\n",
    "Book One: 1805 \n",
    "\n",
    "\n",
    "\n",
    "CHAPTER I \n",
    "\n",
    "WELL, PRINCE, so Genoa and Lucca are now \n",
    "just family estates of the Buonapartes. But I \n",
    "warn you, if you don't tell me that this means \n",
    "war, if you still try to defend the infamies and \n",
    "horrors perpetrated by that Antichrist I real- \n",
    "ly believe he is Antichrist I will have nothing \n",
    "more to do with you and you are no longer my \n",
    "friend, no longer my 'faithful slave,' as you \n",
    "call yourself! But how do you do? I see I have \n",
    "frightened you sit down and tell me all the \n",
    "news.\" \n",
    "\n",
    "It was in July, 1805, and the speaker was the \n",
    "well-known Anna Pdvlovna Sch^rer, maid of \n",
    "honor and favorite of the Empress Marya Fe- \n",
    "dorovna. With these words she greeted Prince \n",
    "Vasili Kurdgin, a man of high rank and impor- \n",
    "tance, who was the first to arrive at her recep- \n",
    "tion. Anna Pdvlovna had had a cough for some \n",
    "days. She was, as she said, suffering from la \n",
    "grippe; grippe being then a new word in St. \n",
    "Petersburg, used only by the elite. \n",
    "\n",
    "All her invitations without exception, writ- \n",
    "ten in French, and delivered by a scarlet-liver- \n",
    "ied footman that morning, ran as follows: \n",
    "\n",
    "    \"If you have nothing better to do, Count [or \n",
    "            Prince], and if the prospect of spending an \n",
    "    evening with a poor invalid is not too terrible, \n",
    "    I shall be very charmed to see you tonight be- \n",
    "    tween 7 and 10 Annette Sch^rer.\" \n",
    "\n",
    "'''\n",
    "\n",
    "print(\"Choices:\")\n",
    "print(\"1 = Count words\")\n",
    "print(\"2 = Count provided word\")\n",
    "print(\"3 = Insert string\")\n",
    "print(\"4 = Print string reversed\")\n",
    "print(\"5 = Print every nTH word\")\n",
    "print(\"6 = Ceaser shift\")\n",
    "\n",
    "choice = int(input(\"Please choice a option: \"))\n",
    "\n",
    "\n",
    "if choice == 1:\n",
    "    wordcount = len(Sentence.split())\n",
    "    print (\"number of words: \" + wordcount)\n",
    "\n",
    "elif choice == 2:\n",
    "    wordcounter = 0\n",
    "    \n",
    "    # remove the reading signs  .?:,  etc\n",
    "    searchstring = re.sub('[^A-Za-z0-9]+', ' ', Sentence)\n",
    "    #print (searchstring)\n",
    "\n",
    "    stringlijst = searchstring.split()\n",
    "    \n",
    "    searchword = input(\"Please type the word to search for: \")\n",
    "\n",
    "#    wordcounter = Sentence.count(searchword)\n",
    "    \n",
    "    for word in stringlijst:\n",
    "        if word == searchword:            \n",
    "            wordcounter = wordcounter + 1\n",
    "\n",
    "    print (\"Counted word: \" + str(wordcounter))\n",
    "\n",
    "\n",
    "    \n",
    "elif choice == 3:\n",
    "    stringlijst = Sentence.split()\n",
    "    insertword = input(\"Please type the word to insert: \")\n",
    "    insertposition = int(input(\"Please type the word position: \"))\n",
    "\n",
    "    stringlijst.insert(insertposition-1, insertword)\n",
    "    print ()\n",
    "    print (' '.join(stringlijst))\n",
    "    \n",
    "elif choice == 4:\n",
    "    print (Sentence[::-1])\n",
    "    \n",
    "    \n",
    "elif choice == 5:\n",
    "    nthword = int(input(\"Please type a step number: \"))\n",
    "    stringlijst = Sentence.split()\n",
    "    print (stringlijst[::nthword])\n",
    "\n",
    "elif choice == 6:\n",
    "    shiftnumber = int(input(\"Please type the shift number: \"))\n",
    "    letters = []\n",
    "    newstring = []\n",
    "    for letter in Sentence:\n",
    "#       letters.append(letter.strip())\n",
    "        letters.append(letter)\n",
    "    \n",
    "    for char in letters:\n",
    "        #print(char)\n",
    "        # 65 - 90 en 97 tot 122\n",
    "        chartest = ord(char)\n",
    "        # print (\"char: \" + str(chartest))\n",
    "        if  chartest > 64 and chartest < 91:  # UPPER\n",
    "            if (chartest + shiftnumber) > 90:\n",
    "                newchar = (chartest + shiftnumber) - 90 + 64\n",
    "                newstring.append(chr(newchar)) #transforms a character into an integer\n",
    "             #   print (\"new char: \" + str(newchar))\n",
    "            else:\n",
    "                newchar = chartest + shiftnumber\n",
    "                newstring.append(chr(newchar)) #transforms a character into an integer\n",
    "             #   print (\"new char: \" + str(newchar))\n",
    "        \n",
    "        elif chartest > 96 and chartest < 123:  # LOWER\n",
    "            if (chartest + shiftnumber) > 122:\n",
    "                newchar = (chartest + shiftnumber) - 122 + 96\n",
    "                newstring.append(chr(newchar)) #transforms a character into an integer\n",
    "             #   print (\"new char: \" + str(newchar))\n",
    "            else:\n",
    "                newchar = chartest + shiftnumber\n",
    "                newstring.append(chr(newchar)) #transforms a character into an integer\n",
    "             #   print (\"new char: \" + str(newchar))\n",
    "        else:\n",
    "          newstring.append(chr(chartest)) #transforms a character into an integer  \n",
    "    \n",
    "    #newstring.append(chr(newchar)) #transforms a character into an integer\n",
    "    # else:\n",
    "        # newstring.append(chr(chartest)) #transforms a character into an integer\n",
    "       \n",
    "#    print (newstring)\n",
    "    print (\" \".join(newstring))\n",
    "                         \n",
    "else:\n",
    "    print (\"no valid choice made.\")\n",
    "\n",
    "    \n",
    "    "
   ]
  },
  {
   "cell_type": "markdown",
   "metadata": {
    "collapsed": true
   },
   "source": [
    "problem definition solotution lab 1\n"
   ]
  },
  {
   "cell_type": "code",
   "execution_count": 8,
   "metadata": {
    "collapsed": false
   },
   "outputs": [
    {
     "ename": "SyntaxError",
     "evalue": "invalid syntax (<ipython-input-8-74555a67718a>, line 10)",
     "output_type": "error",
     "traceback": [
      "\u001b[0;36m  File \u001b[0;32m\"<ipython-input-8-74555a67718a>\"\u001b[0;36m, line \u001b[0;32m10\u001b[0m\n\u001b[0;31m    for line as statsfile:\u001b[0m\n\u001b[0m              ^\u001b[0m\n\u001b[0;31mSyntaxError\u001b[0m\u001b[0;31m:\u001b[0m invalid syntax\n"
     ]
    }
   ],
   "source": [
    "import csv\n",
    "#addon provide team list with index\n",
    "\n",
    "teamlijstT = {}\n",
    "teamlijst = []\n",
    "\n",
    "statsdict = {}\n",
    "\n",
    "statsfile = open('C:\\\\temp\\\\ALbb.salaries.2003.formatted.csv')\n",
    "for line as statsfile:\n",
    "    record = line.strip().split(\",\")\n",
    "    if record[0] in statsdict[0]:\n",
    "        statsdict[record[0]] += int(record[3])\n",
    "    else:\n",
    "        statsdict[record[0]] = int(record[3])\n",
    "\n",
    "statsfile.close()\n",
    "\n",
    "print(statsdict)\n",
    "\n",
    "break\n",
    "\n",
    "    \n",
    "    \n",
    "#tel alle teams total\n",
    "with open('C:\\\\temp\\\\ALbb.salaries.2003.formatted.csv') as teamsT:\n",
    "    readerT = csv.reader(teamsT)\n",
    "    for row in readerT:\n",
    "        teamlijstT[row[0]] = row[2]\n",
    "\n",
    "teamsalaries = []\n",
    "for team in teamlijstT:\n",
    "  #  if key in dict\n",
    "    print(team)\n",
    "\n",
    "\n",
    "\n",
    "    \n",
    "# STOP    \n",
    "break        \n",
    "     \n",
    "        \n",
    "\n",
    "with open('C:\\\\temp\\\\ALbb.salaries.2003.formatted.csv') as teams:\n",
    "    reader = csv.reader(teams)\n",
    "    for row in reader:\n",
    "        teamlijst.append(row[0])\n",
    "\n",
    "    myset = set(teamlijst)\n",
    " #   myset.remove(\"\")\n",
    "   \n",
    "    for item in  enumerate(myset):\n",
    "        print(\"Number: \" + str(item[0]) + \"\\t Teamname: \" + str(item[1]))\n",
    "\n",
    "#print (myset) \n",
    "\n",
    "totalsalary = 0\n",
    "teamchoice = input(\"please provide the team name number:\")\n",
    "\n",
    "for item in  enumerate(myset):\n",
    "    if str(item[0]) == teamchoice:\n",
    "        print (\"TeamChoice: \" + item[1])\n",
    "        teamname = item[1]\n",
    "\n",
    "with open('C:\\\\temp\\\\ALbb.salaries.2003.formatted.csv') as data:\n",
    "    reader = csv.reader(data)\n",
    "    for row in reader:\n",
    "        if row[0] == teamname:\n",
    "           #print (\"test match\")\n",
    "            totalsalary = totalsalary + int(row[2])\n",
    "\n",
    "print (\"Team: %s \\t has a total salary: %s\" %(teamname, totalsalary))\n",
    "#print(\"naam %s\" %(fnaam))"
   ]
  },
  {
   "cell_type": "markdown",
   "metadata": {
    "collapsed": true
   },
   "source": [
    "dag 3"
   ]
  },
  {
   "cell_type": "code",
   "execution_count": 3,
   "metadata": {
    "collapsed": false
   },
   "outputs": [
    {
     "name": "stdout",
     "output_type": "stream",
     "text": [
      "[1, 9, 25, 49, 81]\n"
     ]
    }
   ],
   "source": [
    "%timeit\n",
    "numbers = [1,2,3,4,5,6,7,8,9,10]\n",
    "\n",
    "#odd = []\n",
    "\n",
    "odd = [num **2 for num in numbers if num %2 != 0]\n",
    "\n",
    "#for num in numbers:\n",
    "#    if num %2 != 0:\n",
    "#        odd .append(num ** 2)\n",
    "        \n",
    "print(odd)"
   ]
  },
  {
   "cell_type": "code",
   "execution_count": 8,
   "metadata": {
    "collapsed": false
   },
   "outputs": [
    {
     "name": "stdout",
     "output_type": "stream",
     "text": [
      "Please enter a teamw\n",
      "not found team\n"
     ]
    }
   ],
   "source": [
    "import csv\n",
    "#addon provide team list with index\n",
    "\n",
    "teamlijstT = {}\n",
    "teamlijst = []\n",
    "\n",
    "statsdict = {}\n",
    "\n",
    "statsfile = open('C:\\\\temp\\\\ALbb.salaries.2003.formatted.csv')\n",
    "\n",
    "for line in statsfile:\n",
    "    record = line.strip().split(\",\")\n",
    "    if record[0] in statsdict:\n",
    "        statsdict[record[0]] += int(record[3])\n",
    "    else:\n",
    "        statsdict[record[0]] = int(record[3])\n",
    "\n",
    "statsfile.close()\n",
    "\n",
    "teamtoinspect = input(\"Please enter a team\")\n",
    "if teamtoinspect in statsdict:\n",
    "    print (statsdict[teamtoinspect])\n",
    "else:\n",
    "    print(\"not found team\")\n"
   ]
  },
  {
   "cell_type": "code",
   "execution_count": 3,
   "metadata": {
    "collapsed": false
   },
   "outputs": [
    {
     "ename": "SyntaxError",
     "evalue": "EOL while scanning string literal (<ipython-input-3-57f8559b6d26>, line 14)",
     "output_type": "error",
     "traceback": [
      "\u001b[0;36m  File \u001b[0;32m\"<ipython-input-3-57f8559b6d26>\"\u001b[0;36m, line \u001b[0;32m14\u001b[0m\n\u001b[0;31m    countrypop = input(\"Ple record = line.strip().split(\",\")\u001b[0m\n\u001b[0m                                                            ^\u001b[0m\n\u001b[0;31mSyntaxError\u001b[0m\u001b[0;31m:\u001b[0m EOL while scanning string literal\n"
     ]
    }
   ],
   "source": [
    "import csv\n",
    "#addon provide team list with index\n",
    "\n",
    "statsdict = {}\n",
    "statsfile = open('C:\\\\temp\\\\Eur.pop.csv')\n",
    "\n",
    "for line in statsfile:\n",
    "    if record[1].isdigit() and record[7].isdigit() :\n",
    "        statsdict[record[0]] = int(record[7])  - int(record[1])\n",
    "\n",
    "statsfile.close()\n",
    "\n",
    "#print (statsdict)\n",
    "countrypop = input(\"Ple record = line.strip().split(\",\")\n",
    "   ase enter a Country: \")\n",
    "if countrypop in statsdict:\n",
    "    print (statsdict[countrypop])\n",
    "elif countrypop == \"ALL\":\n",
    "    print (statsdict)\n",
    "else:\n",
    "    print(\"not found\")\n",
    "\n"
   ]
  },
  {
   "cell_type": "code",
   "execution_count": 5,
   "metadata": {
    "collapsed": false
   },
   "outputs": [
    {
     "ename": "SyntaxError",
     "evalue": "invalid syntax (<ipython-input-5-0ee937233663>, line 13)",
     "output_type": "error",
     "traceback": [
      "\u001b[0;36m  File \u001b[0;32m\"<ipython-input-5-0ee937233663>\"\u001b[0;36m, line \u001b[0;32m13\u001b[0m\n\u001b[0;31m    statsdict[record[0] : [int(record[7])- int(record[1])] for record in line]\u001b[0m\n\u001b[0m                                                             ^\u001b[0m\n\u001b[0;31mSyntaxError\u001b[0m\u001b[0;31m:\u001b[0m invalid syntax\n"
     ]
    }
   ],
   "source": [
    "import csv\n",
    "#addon provide team list with index\n",
    "\n",
    "statsdict = {}\n",
    "statsfile = open('C:\\\\temp\\\\Eur.pop.csv')\n",
    "\n",
    "#odd = [num **2 for num in numbers if num %2 != 0]\n",
    "\n",
    "line = [line.strip().split(\",\") for line in statsfile ]\n",
    "#print (line)\n",
    "\n",
    "\n",
    "statsdict[record[0] : [int(record[7])- int(record[1])] for record in line] \n",
    "\n",
    "\n",
    "print (statsdict)\n",
    "\n",
    "#line2 = [int(record[7])- int(record[1]) for record.strip().split(\",\") in [for line in statsfile] if record[1].isdigit() and record[7].isdigit()]\n",
    "\n",
    "statsfile.close()\n",
    "\n",
    "print(statsdict)\n",
    "\n",
    "countrypop = input(\"Please enter a Country: \")\n",
    "if countrypop in statsdict:\n",
    "    print (statsdict[countrypop])\n",
    "elif countrypop == \"ALL\":\n",
    "    print (statsdict)\n",
    "else:\n",
    "    print(\"not found\")\n",
    "\n"
   ]
  },
  {
   "cell_type": "code",
   "execution_count": null,
   "metadata": {
    "collapsed": true
   },
   "outputs": [],
   "source": []
  },
  {
   "cell_type": "code",
   "execution_count": 1,
   "metadata": {
    "collapsed": false
   },
   "outputs": [
    {
     "name": "stdout",
     "output_type": "stream",
     "text": [
      "{1: 'a', 2: 'b', 3: 'c', 4: 'd', 5: 'e', 6: 'f', 7: 'g', 8: 'h', 9: 'i'}\n"
     ]
    }
   ],
   "source": [
    "list1 = [1,2,3,4,5,6,7,8,9]\n",
    "list2 = ['a','b','c','d','e','f','g','h','i']\n",
    "#print (list(zip(list1,list2)))   tupel\n",
    "\n",
    "d = {rec[0]:rec[1] for rec in zip(list1,list2)}\n",
    "print (d)"
   ]
  },
  {
   "cell_type": "code",
   "execution_count": null,
   "metadata": {
    "collapsed": false
   },
   "outputs": [],
   "source": [
    "import sys\n",
    "myval = 0\n",
    "myval = input(\"please \")\n",
    "\n",
    "try:\n",
    "    myval = int(myval)\n",
    "except ValueError as e:\n",
    "    print (\"error %s\" % (myval))\n",
    "    sys.exit(1)\n",
    "\n",
    "print (myval + 1)\n"
   ]
  },
  {
   "cell_type": "markdown",
   "metadata": {},
   "source": [
    "Classes"
   ]
  },
  {
   "cell_type": "code",
   "execution_count": 2,
   "metadata": {
    "collapsed": false
   },
   "outputs": [
    {
     "name": "stdout",
     "output_type": "stream",
     "text": [
      "creating animal\n",
      "creating cat test\n"
     ]
    },
    {
     "data": {
      "text/plain": [
       "['__class__',\n",
       " '__delattr__',\n",
       " '__dict__',\n",
       " '__dir__',\n",
       " '__doc__',\n",
       " '__eq__',\n",
       " '__format__',\n",
       " '__ge__',\n",
       " '__getattribute__',\n",
       " '__gt__',\n",
       " '__hash__',\n",
       " '__init__',\n",
       " '__le__',\n",
       " '__lt__',\n",
       " '__module__',\n",
       " '__ne__',\n",
       " '__new__',\n",
       " '__reduce__',\n",
       " '__reduce_ex__',\n",
       " '__repr__',\n",
       " '__setattr__',\n",
       " '__sizeof__',\n",
       " '__str__',\n",
       " '__subclasshook__',\n",
       " '__weakref__',\n",
       " 'friskiness',\n",
       " 'name']"
      ]
     },
     "execution_count": 2,
     "metadata": {},
     "output_type": "execute_result"
    }
   ],
   "source": [
    "class Animal:  #base class\n",
    "    def __init__(self):\n",
    "        print(\"creating animal\")\n",
    "        \n",
    "class Cat(Animal):  #base class\n",
    "    def __init__(self, name, friskiness=50):\n",
    "        super().__init__()\n",
    "        self.name = name\n",
    "        self.friskiness = friskiness\n",
    "        print(\"creating cat \" + name)\n",
    "\n",
    "c = Cat(\"test\")\n",
    "\n",
    "dir(c)"
   ]
  },
  {
   "cell_type": "code",
   "execution_count": 9,
   "metadata": {
    "collapsed": false
   },
   "outputs": [
    {
     "ename": "AttributeError",
     "evalue": "'Cat' object has no attribute 'name'",
     "output_type": "error",
     "traceback": [
      "\u001b[0;31m---------------------------------------------------------------------------\u001b[0m",
      "\u001b[0;31mAttributeError\u001b[0m                            Traceback (most recent call last)",
      "\u001b[0;32m<ipython-input-9-eb864384fa82>\u001b[0m in \u001b[0;36m<module>\u001b[0;34m()\u001b[0m\n\u001b[1;32m     10\u001b[0m         \u001b[0mprint\u001b[0m\u001b[1;33m(\u001b[0m\u001b[1;34m\"creating cat \"\u001b[0m \u001b[1;33m+\u001b[0m \u001b[0mself\u001b[0m\u001b[1;33m.\u001b[0m\u001b[0mname\u001b[0m\u001b[1;33m)\u001b[0m\u001b[1;33m\u001b[0m\u001b[0m\n\u001b[1;32m     11\u001b[0m \u001b[1;33m\u001b[0m\u001b[0m\n\u001b[0;32m---> 12\u001b[0;31m \u001b[0mc\u001b[0m \u001b[1;33m=\u001b[0m \u001b[0mCat\u001b[0m\u001b[1;33m(\u001b[0m\u001b[1;34m\"test\"\u001b[0m\u001b[1;33m)\u001b[0m\u001b[1;33m\u001b[0m\u001b[0m\n\u001b[0m\u001b[1;32m     13\u001b[0m \u001b[1;33m\u001b[0m\u001b[0m\n\u001b[1;32m     14\u001b[0m \u001b[0mdir\u001b[0m \u001b[1;33m(\u001b[0m\u001b[0mc\u001b[0m\u001b[1;33m)\u001b[0m\u001b[1;33m\u001b[0m\u001b[0m\n",
      "\u001b[0;32m<ipython-input-9-eb864384fa82>\u001b[0m in \u001b[0;36m__init__\u001b[0;34m(self, name, friskiness)\u001b[0m\n\u001b[1;32m      8\u001b[0m \u001b[1;33m\u001b[0m\u001b[0m\n\u001b[1;32m      9\u001b[0m         \u001b[0mself\u001b[0m\u001b[1;33m.\u001b[0m\u001b[0mfriskiness\u001b[0m \u001b[1;33m=\u001b[0m \u001b[0mfriskiness\u001b[0m\u001b[1;33m\u001b[0m\u001b[0m\n\u001b[0;32m---> 10\u001b[0;31m         \u001b[0mprint\u001b[0m\u001b[1;33m(\u001b[0m\u001b[1;34m\"creating cat \"\u001b[0m \u001b[1;33m+\u001b[0m \u001b[0mself\u001b[0m\u001b[1;33m.\u001b[0m\u001b[0mname\u001b[0m\u001b[1;33m)\u001b[0m\u001b[1;33m\u001b[0m\u001b[0m\n\u001b[0m\u001b[1;32m     11\u001b[0m \u001b[1;33m\u001b[0m\u001b[0m\n\u001b[1;32m     12\u001b[0m \u001b[0mc\u001b[0m \u001b[1;33m=\u001b[0m \u001b[0mCat\u001b[0m\u001b[1;33m(\u001b[0m\u001b[1;34m\"test\"\u001b[0m\u001b[1;33m)\u001b[0m\u001b[1;33m\u001b[0m\u001b[0m\n",
      "\u001b[0;31mAttributeError\u001b[0m: 'Cat' object has no attribute 'name'"
     ]
    }
   ],
   "source": [
    "class Animal:  #base class\n",
    "    def __init__(self, name):\n",
    "        self.name = name\n",
    "        print(\"creating animal\")\n",
    "        \n",
    "class Cat(Animal):  #base class\n",
    "    def __init__(self, name, friskiness=50):\n",
    "        \n",
    "        self.friskiness = friskiness\n",
    "        print(\"creating cat \" + self.name)\n",
    "\n",
    "c = Cat(\"test\")\n",
    "\n",
    "dir (c)"
   ]
  },
  {
   "cell_type": "code",
   "execution_count": 7,
   "metadata": {
    "collapsed": false
   },
   "outputs": [
    {
     "data": {
      "text/plain": [
       "['JSONDecodeError',\n",
       " 'JSONDecoder',\n",
       " 'JSONEncoder',\n",
       " '__all__',\n",
       " '__author__',\n",
       " '__builtins__',\n",
       " '__cached__',\n",
       " '__doc__',\n",
       " '__file__',\n",
       " '__loader__',\n",
       " '__name__',\n",
       " '__package__',\n",
       " '__path__',\n",
       " '__spec__',\n",
       " '__version__',\n",
       " '_default_decoder',\n",
       " '_default_encoder',\n",
       " 'decoder',\n",
       " 'dump',\n",
       " 'dumps',\n",
       " 'encoder',\n",
       " 'load',\n",
       " 'loads',\n",
       " 'scanner']"
      ]
     },
     "execution_count": 7,
     "metadata": {},
     "output_type": "execute_result"
    }
   ],
   "source": [
    "import json\n",
    "\n",
    "dir(json)"
   ]
  }
 ],
 "metadata": {
  "anaconda-cloud": {},
  "kernelspec": {
   "display_name": "Python [default]",
   "language": "python",
   "name": "python3"
  },
  "language_info": {
   "codemirror_mode": {
    "name": "ipython",
    "version": 3
   },
   "file_extension": ".py",
   "mimetype": "text/x-python",
   "name": "python",
   "nbconvert_exporter": "python",
   "pygments_lexer": "ipython3",
   "version": "3.5.2"
  }
 },
 "nbformat": 4,
 "nbformat_minor": 1
}
