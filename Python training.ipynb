{
 "cells": [
  {
   "cell_type": "markdown",
   "metadata": {},
   "source": [
    "test\n"
   ]
  },
  {
   "cell_type": "code",
   "execution_count": 1,
   "metadata": {
    "collapsed": false
   },
   "outputs": [
    {
     "name": "stdout",
     "output_type": "stream",
     "text": [
      "H\n",
      "E\n",
      "L\n",
      "L\n",
      "O\n",
      " \n",
      "W\n",
      "O\n",
      "R\n",
      "L\n",
      "D\n"
     ]
    }
   ],
   "source": [
    "s = \"Hello World\"\n",
    "for c in s:\n",
    "    if c.isupper():\n",
    "        print (c)\n",
    "    else:\n",
    "        print (c.upper())\n",
    "\n",
    "    \n"
   ]
  },
  {
   "cell_type": "markdown",
   "metadata": {},
   "source": [
    "code 2"
   ]
  },
  {
   "cell_type": "code",
   "execution_count": 2,
   "metadata": {
    "collapsed": false
   },
   "outputs": [
    {
     "name": "stdout",
     "output_type": "stream",
     "text": [
      "test\n"
     ]
    }
   ],
   "source": [
    "print (\"test\")"
   ]
  },
  {
   "cell_type": "markdown",
   "metadata": {},
   "source": [
    "code 3\n"
   ]
  },
  {
   "cell_type": "code",
   "execution_count": 3,
   "metadata": {
    "collapsed": false
   },
   "outputs": [
    {
     "name": "stdout",
     "output_type": "stream",
     "text": [
      "H\n",
      "ello\n",
      "HloWrd\n"
     ]
    }
   ],
   "source": [
    "s1 = \"Hello World\"\n",
    "print (s1[0])\n",
    "print (s1[1:5])\n",
    "print (s1[::2])\n",
    "\n"
   ]
  },
  {
   "cell_type": "markdown",
   "metadata": {
    "collapsed": true
   },
   "source": [
    "LAB1"
   ]
  },
  {
   "cell_type": "code",
   "execution_count": 4,
   "metadata": {
    "collapsed": false
   },
   "outputs": [
    {
     "name": "stdout",
     "output_type": "stream",
     "text": [
      "113.09733552923254\n"
     ]
    }
   ],
   "source": [
    "radius = 3\n",
    "pi = 3.1415926535897931\n",
    "volume = 4/3 * pi * (radius**3)\n",
    "print(volume)"
   ]
  },
  {
   "cell_type": "code",
   "execution_count": 12,
   "metadata": {
    "collapsed": false
   },
   "outputs": [
    {
     "name": "stdout",
     "output_type": "stream",
     "text": [
      "Please enter a number3\n",
      "113.09733552923254\n"
     ]
    }
   ],
   "source": [
    "radius = int(input(\"Please enter a number\"))\n",
    "pi = 3.1415926535897931\n",
    "volume = 4/3 * pi * (radius**3)\n",
    "print(volume)\n"
   ]
  },
  {
   "cell_type": "code",
   "execution_count": 23,
   "metadata": {
    "collapsed": false
   },
   "outputs": [
    {
     "name": "stdout",
     "output_type": "stream",
     "text": [
      "Please enter a number4\n",
      "the volume is: 268.082573106329\n",
      "the area is: 201.06192982974676\n",
      "the circum is: 25.132741228718345\n"
     ]
    }
   ],
   "source": [
    "radius = int(input(\"Please enter a number\"))\n",
    "pi = 3.1415926535897931\n",
    "volume = 4/3 * pi * (radius**3)\n",
    "area =  4 * pi * (radius**2)\n",
    "circum =  2 * pi * radius\n",
    "print(\"the volume is: \" + str(volume))\n",
    "print(\"the area is: \" + str(area))\n",
    "print(\"the circum is: \" + str(circum))\n",
    "\n"
   ]
  },
  {
   "cell_type": "code",
   "execution_count": null,
   "metadata": {
    "collapsed": false
   },
   "outputs": [],
   "source": [
    "radius = int(input(\"Please enter a number\"))\n",
    "pi = 3.1415926535897931\n",
    "volume = 4/3 * pi * (radius**3)\n",
    "area =  4 * pi * (radius**2)\n",
    "circum =  2 * pi * radius\n",
    "print(\"the volume is: \" + str(volume))\n",
    "print(\"the area is: \" + str(area))\n",
    "print(\"the circum is: \" + str(circum))\n",
    "\n"
   ]
  },
  {
   "cell_type": "markdown",
   "metadata": {},
   "source": [
    "02_code"
   ]
  },
  {
   "cell_type": "code",
   "execution_count": 9,
   "metadata": {
    "collapsed": false
   },
   "outputs": [
    {
     "name": "stdout",
     "output_type": "stream",
     "text": [
      "testwwww \t \t test\n",
      "testest \t \t test\n",
      "test testsad\t \t test\n",
      "tessadsadt \t \t test\n"
     ]
    }
   ],
   "source": [
    "print (\"testwwww \\t \\t test\")\n",
    "print (\"testest \\t \\t test\")\n",
    "print (\"test testsad\\t \\t test\")\n",
    "print (\"tessadsadt \\t \\t test\")\n"
   ]
  },
  {
   "cell_type": "code",
   "execution_count": 22,
   "metadata": {
    "collapsed": false
   },
   "outputs": [
    {
     "name": "stdout",
     "output_type": "stream",
     "text": [
      "Choices:\n",
      "1 = Sphere\n",
      "2 = Circle\n",
      "3 = Rectangle\n",
      "4 = Square\n",
      "5 = Triangle\n",
      "Please choice the shape to calculate: 4\n",
      "Please enter the height: 4\n",
      "the area is: 16\n"
     ]
    }
   ],
   "source": [
    "PI = 3.1415926535897931\n",
    "\n",
    "print(\"Choices:\")\n",
    "print(\"1 = Sphere\")\n",
    "print(\"2 = Circle\")\n",
    "print(\"3 = Rectangle\")\n",
    "print(\"4 = Square\")\n",
    "print(\"5 = Triangle\")\n",
    "\n",
    "choice = int(input(\"Please choice the shape to calculate: \"))\n",
    "\n",
    "if choice == 1:\n",
    "    radius = int(input(\"Please enter the radius: \"))\n",
    "    volume = 4/3 * PI * (radius**3)\n",
    "    area =  4 * PI * (radius**2)\n",
    "    circum =  2 * PI * radius\n",
    "    print(\"the volume is: \" + str(volume))\n",
    "    print(\"the area is: \" + str(area))\n",
    "    print(\"the circum is: \" + str(circum))\n",
    "\n",
    "elif choice == 2:\n",
    "    radius = int(input(\"Please enter the radius: \"))\n",
    "    area =  4 * PI * (radius**2)\n",
    "    circum =  2 * PI * radius\n",
    "    print(\"the area is: \" + str(area))\n",
    "    print(\"the circum is: \" + str(circum))\n",
    "\n",
    "elif choice == 3:\n",
    "    breedte = int(input(\"Please enter the width: \"))\n",
    "    lengte = int(input(\"Please enter the height: \"))\n",
    "    area =  lengte * breedte  \n",
    "    print(\"the area is: \" + str(area))\n",
    "\n",
    "elif choice == 4:\n",
    "    lengte = int(input(\"Please enter the height: \"))\n",
    "    area =  lengte * lengte  \n",
    "    print(\"the area is: \" + str(area))\n",
    "\n",
    "elif choice == 5:\n",
    "    breedte = int(input(\"Please enter the width: \"))\n",
    "    lengte = int(input(\"Please enter the height: \"))\n",
    "    area =  0.5 * (lengte * breedte)  \n",
    "    print(\"the area is: \" + str(area))\n",
    "\n",
    "else:\n",
    "    print(\"unknown choice !\")"
   ]
  },
  {
   "cell_type": "code",
   "execution_count": 1,
   "metadata": {
    "collapsed": false
   },
   "outputs": [
    {
     "name": "stdout",
     "output_type": "stream",
     "text": [
      "[3, 2, 1]\n"
     ]
    }
   ],
   "source": [
    "lijst = [1,2,3]\n",
    "lijst.reverse()\n",
    "print(lijst)\n",
    "\n"
   ]
  },
  {
   "cell_type": "markdown",
   "metadata": {},
   "source": [
    "day 2\n"
   ]
  },
  {
   "cell_type": "code",
   "execution_count": 14,
   "metadata": {
    "collapsed": false
   },
   "outputs": [
    {
     "name": "stdout",
     "output_type": "stream",
     "text": [
      "naam ron \n"
     ]
    }
   ],
   "source": [
    "input_string = \"ron ,schutte ,1234 tramstraat, anywhere, nl, 1234AA\"\n",
    "(fnaam,anaam,straat,stad,land,postcode) = input_string.split(\",\")\n",
    "print(\"naam %s\" %(fnaam))\n",
    "\n",
    "\n"
   ]
  },
  {
   "cell_type": "code",
   "execution_count": 16,
   "metadata": {
    "collapsed": false
   },
   "outputs": [
    {
     "name": "stdout",
     "output_type": "stream",
     "text": [
      "[]\n"
     ]
    }
   ],
   "source": [
    "numbers = [1,2,3,4,5]\n",
    "squares = []\n",
    "\n",
    "#for number in numbers:\n",
    "#    squares.append (number**2)\n",
    "#\n",
    "\n",
    "print (squares)\n"
   ]
  },
  {
   "cell_type": "code",
   "execution_count": 12,
   "metadata": {
    "collapsed": false
   },
   "outputs": [
    {
     "name": "stdout",
     "output_type": "stream",
     "text": [
      "['FEE', 'FO', 'FUM']\n"
     ]
    }
   ],
   "source": [
    "words = ['fee','fi','fo','fum']\n",
    "capwords = [word.upper() for word in words if word is not \"fi\"]\n",
    "print (capwords)"
   ]
  },
  {
   "cell_type": "code",
   "execution_count": 25,
   "metadata": {
    "collapsed": false
   },
   "outputs": [
    {
     "name": "stdout",
     "output_type": "stream",
     "text": [
      "(0, 'a')\n",
      "(1, 'b')\n",
      "(2, 'c')\n"
     ]
    }
   ],
   "source": [
    "letters = ['a','b','c']\n",
    "element = enumerate(letters)\n",
    "for elm in element:\n",
    "    print (elm)"
   ]
  }
 ],
 "metadata": {
  "anaconda-cloud": {},
  "kernelspec": {
   "display_name": "Python [default]",
   "language": "python",
   "name": "python3"
  },
  "language_info": {
   "codemirror_mode": {
    "name": "ipython",
    "version": 3
   },
   "file_extension": ".py",
   "mimetype": "text/x-python",
   "name": "python",
   "nbconvert_exporter": "python",
   "pygments_lexer": "ipython3",
   "version": "3.5.2"
  }
 },
 "nbformat": 4,
 "nbformat_minor": 1
}
